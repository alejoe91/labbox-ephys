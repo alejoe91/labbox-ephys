{
 "cells": [
  {
   "cell_type": "code",
   "execution_count": null,
   "metadata": {},
   "outputs": [],
   "source": [
    "import spikeextractors as se\n",
    "import hither as hi\n",
    "import numpy as np\n",
    "import kachery_p2p as kp\n",
    "import labbox_ephys as le\n",
    "from labbox_ephys import sorting_views\n",
    "from labbox_ephys import recording_views"
   ]
  },
  {
   "cell_type": "code",
   "execution_count": null,
   "metadata": {},
   "outputs": [],
   "source": [
    "def prepare_recording_sorting():\n",
    "    # Simulate a recording (toy example)\n",
    "    recording, sorting = se.example_datasets.toy_example(duration=50, num_channels=4, K=4, seed=1)\n",
    "    # Write data to temporary files and store in a labbox-ephys-compatible format\n",
    "    with hi.TemporaryDirectory() as tmpdir:\n",
    "        raw_fname = tmpdir + '/raw.dat'\n",
    "        traces: np.ndarray = recording.get_traces()\n",
    "        traces = (traces / np.max(np.abs(traces)) * 10000).astype(np.int16)\n",
    "        se.BinDatRecordingExtractor.write_recording(recording, raw_fname, time_axis=0, dtype=np.int16)\n",
    "        bin_uri = kp.store_file(raw_fname)\n",
    "        channel_ids = [int(id) for id in recording.get_channel_ids()]\n",
    "        channel_map = dict()\n",
    "        channel_positions = dict()\n",
    "        locations = recording.get_channel_locations()\n",
    "        for id, ii in enumerate(channel_ids):\n",
    "            channel_map[str(id)] = ii\n",
    "            channel_positions[str(id)] = locations[ii].tolist()\n",
    "        recording_obj = {\n",
    "            'recording_format': 'bin1',\n",
    "            'data': {\n",
    "                'raw': bin_uri,\n",
    "                'raw_num_channels': recording.get_num_channels(),\n",
    "                'num_frames': recording.get_num_frames(),\n",
    "                'samplerate': recording.get_sampling_frequency(),\n",
    "                'channel_ids': recording.get_channel_ids(),\n",
    "                'channel_map': channel_map,\n",
    "                'channel_positions': channel_positions\n",
    "            }\n",
    "        }\n",
    "        R = le.LabboxEphysRecordingExtractor(recording_obj)\n",
    "\n",
    "        sorting_path = tmpdir + '/sorting.h5'\n",
    "        le.extractors.H5SortingExtractorV1.write_sorting(sorting, sorting_path)\n",
    "        S = le.LabboxEphysSortingExtractor({\n",
    "            'sorting_format': 'h5_v1',\n",
    "            'data': {\n",
    "                'h5_path': kp.store_file(sorting_path)\n",
    "            }\n",
    "        })\n",
    "    return R, S"
   ]
  },
  {
   "cell_type": "code",
   "execution_count": null,
   "metadata": {},
   "outputs": [],
   "source": [
    "recording, sorting = prepare_recording_sorting()"
   ]
  },
  {
   "cell_type": "code",
   "execution_count": null,
   "metadata": {},
   "outputs": [],
   "source": [
    "sorting_views.AverageWaveformsNew(sorting=sorting, recording=recording)"
   ]
  },
  {
   "cell_type": "code",
   "execution_count": null,
   "metadata": {},
   "outputs": [],
   "source": [
    "sorting_views.ElectrodeGeometry(sorting=sorting, recording=recording)"
   ]
  },
  {
   "cell_type": "code",
   "execution_count": null,
   "metadata": {},
   "outputs": [],
   "source": [
    "sorting_views.Autocorrelograms(sorting=sorting, recording=recording)"
   ]
  },
  {
   "cell_type": "code",
   "execution_count": null,
   "metadata": {},
   "outputs": [],
   "source": [
    "sorting_views.Timeseries(sorting=sorting, recording=recording)"
   ]
  },
  {
   "cell_type": "code",
   "execution_count": null,
   "metadata": {},
   "outputs": [],
   "source": [
    "recording_views.Timeseries(recording=recording)"
   ]
  },
  {
   "cell_type": "code",
   "execution_count": null,
   "metadata": {},
   "outputs": [],
   "source": []
  }
 ],
 "metadata": {
  "kernelspec": {
   "display_name": "Python 3",
   "language": "python",
   "name": "python3"
  },
  "language_info": {
   "codemirror_mode": {
    "name": "ipython",
    "version": 3
   },
   "file_extension": ".py",
   "mimetype": "text/x-python",
   "name": "python",
   "nbconvert_exporter": "python",
   "pygments_lexer": "ipython3",
   "version": "3.8.5"
  }
 },
 "nbformat": 4,
 "nbformat_minor": 4
}
